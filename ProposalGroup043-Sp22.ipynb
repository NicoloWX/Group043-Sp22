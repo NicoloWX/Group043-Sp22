{
 "cells": [
  {
   "cell_type": "markdown",
   "metadata": {},
   "source": [
    "# COGS 118A- Project Proposal"
   ]
  },
  {
   "cell_type": "markdown",
   "metadata": {},
   "source": [
    "# Names\n",
    "\n",
    "Hopefully your team is at least this good. Obviously you should replace these with your names.\n",
    "\n",
    "- Cain Chen\n",
    "- Zhigang Lin\n",
    "- Xue Wang\n",
    "- Hongxin Song\n",
    "- Jinghong Luo\n"
   ]
  },
  {
   "cell_type": "markdown",
   "metadata": {},
   "source": [
    "# Abstract \n",
    "\n",
    "The aim of this project is to predict the popularity of a new track taking features such as artists, danceability and duration etc. by generating a model based on supervised machine learning algorithms. The data we choose to use is a dataset which contains audio and other features of more than 600,000 tracks extracted from spotify. It is a representation of all songs from different countries and genres in the current music industry from 1921 to 2022. We plan to first standardize features like duration, numbers of followers of the artists and date. Then we would take a close look at the features through EDA to determine further data preprocessing procedure of the dataset. Next step is to create a baseline model using linear regression with dancibility as the sole predictive parameter. In order to generate a high- accuracy model, we would use different supervised algorithms like SVR, random forest regressor and LASSO regression with engineered features and measure their performances using different metrics such as $R^2$ and MSE. We strive for a higher $R^2$ score and a lower MSE. We will also incorporate cross validation for tuning the hyperparameters. At the end, We plan to generate a simple neural network using keras to see whether this gives us higher accuracy.      "
   ]
  },
  {
   "cell_type": "markdown",
   "metadata": {},
   "source": [
    "# Background\n",
    "\n",
    "Music has always been an important component of the entertainment industry. The emergence of pop music began with songs and pieces available as digital sound files. People's orientation to music has evolved with time, from country and rock of “the good old days”  to electronic and hip-hop styles that are nowadays popular. A variety of factors can determine the popularity of a track. Rhythm and lyrics are some of the most important features in determining the popularity as well as other features like the producer, energy and release date. Our goal is to predict the popularity<a name=\"ref_1\"></a>[<sup>[1]</sup>](#reference_1) of the track once it is released based on basic features of the track. Other data scientists have tried to use only the audio feature of the song itself to predict its popularity<a name=\"ref_2\"></a>[<sup>[2]</sup>](#reference_2). While they used primarily audio features to train their model, we have decided to tackle the problem from a different perspective, incorporating features such as the producer, the number of followers the artist has and the name of the track. We believe that our model enables us to predict the popularity of the track more effectively, i.e. without the need to listen to the whole track."
   ]
  },
  {
   "cell_type": "markdown",
   "metadata": {},
   "source": [
    "# Problem Statement\n",
    "\n",
    "After looking at the dataset, we find an interesting column called <b>popularity</b>. Based on the description from the source of the data(Kaggle), this column measures how popular the track is in a range of 0 to 100. We intend to understand how the values in the popularity column are obtained. More specifically, given other columns such as energy, danceability and #_followers, can we predict the popularity of the track? Additionally, based on domain knowledge, are there any other interesting features that we can engineer in order to improve our predictions? It is clear that we have a regression problem here since the predicted values are continuous. If we take linear regression as an example, this problem can be expressed as  $popularity=w_0+w_1x_1+...+w_dx_d$ where $x_i$'s are features to be determined. Therefore our goal is to fit the best regression model with appropriate features in order to improve our prediction accuracy on popularity. "
   ]
  },
  {
   "cell_type": "markdown",
   "metadata": {},
   "source": [
    "# Data\n",
    "\n",
    "### Dataset Overview<a name=\"data\"></a>[<sup>[3]</sup>](#data_ref)\n",
    "The dataset consists of two separate sub-datasets which we will combine together in this project.\n",
    "* The first sub-dataset, which is based on artists' popularity, has a shape of **(1162095, 5)**, meaning we will have **1162095** observations and **5** variables.\n",
    "* The second sub-dataset, which is on features of tracks, has a shape of **(586672, 20)**, meaning we will have **586672** observations and **20** variables.\n",
    "\n",
    "### Features of the First sub-dataset\n",
    "* Id: unique id of artist\n",
    "* followers: number of followers for that artist\n",
    "* genres: the genres associated with artist in list\n",
    "* name: the name of artist\n",
    "* popularity: the popularity of artist in range 0 to 100\n",
    "\n",
    "### Features of the Second sub-dataset\n",
    "* Id: unique id of track from the artist(s)\n",
    "* name: name of track\n",
    "* popularity: popularity of track in range 0 and 100\n",
    "* duration_ms: duration of songs in milisecond\n",
    "* explicit: whether it contains explicit content or not, using 1 to represent explicit and 0 otherwise.\n",
    "* artists: artist(s) who created the track\n",
    "* id_artists: id of artists who created the track\n",
    "* release_date: date of release for the track\n",
    "* danceability: how danceable a song is in range 0 to 1\n",
    "* energy: how energized a song is in range 0 to 1\n",
    "* key: major note of track\n",
    "* loudness: how loud a song is in db\n",
    "* mode: the modality of track, using 1 to represent major and 0 for minor\n",
    "* speechiness: the presence of spoken words in track in range 0 to 1\n",
    "* acousticness: how acoustic a track is in range 0 and 1\n",
    "* instrumentalness: the absence of vocal sounds in track in range 0 to 1\n",
    "* liveness: the presence of audience in track in range 0 to 1\n",
    "* valence: the positiveness of the track in range 0 to 1\n",
    "* tempo: the overall tempo of track in BPM\n",
    "* time_signature: the time signature of the track in range 0 to 5. \n",
    "\n",
    "### Critical Variable Representations\n",
    "* popularity (in both dataset): represented in floats in the range 0 to 100\n",
    "* release_date: date of release for the track\n",
    "* danceability: how danceable a song is in range 0 to 1\n",
    "* energy: how energized a song is in range 0 to 1\n",
    "* key: major note of track\n",
    "* loudness: how loud a song is in db\n",
    "* mode: the modality of track, using 1 to represent major and 0 for minor\n",
    "* speechiness: the presence of spoken words in track in range 0 to 1\n",
    "* acousticness: how acoustic a track is in range 0 and 1\n",
    "instrumentalness: the absence of vocal sounds in track in range 0 to 1\n",
    "* liveness: the presence of audience in track in range 0 to 1\n",
    "* valence: the positiveness of the track in range 0 to 1\n",
    "* tempo: the overall tempo of track in BPM\n",
    "* time_signature: the time signature of the track in range 0 to 5\n",
    "\n",
    "<b>Any special handling, transformations, cleaning etc will be needed:</b><br>\n",
    "We will make sure to clean up the dataset to remove any unwanted duplicating observations.<br>\n",
    "We will also make sure to take good care of missing data by implementing appropriate data imputation methods.\n"
   ]
  },
  {
   "cell_type": "markdown",
   "metadata": {},
   "source": [
    "# Proposed Solution\n",
    "\n",
    "We have two datasets for this project, tracks.csv and artists.csv. We see that these datasets can be joined on the column artist_id which serves as the primary key in artists.csv and as the foreign key in tracks.csv. We will first perform a left join on these datasets.\n",
    "\n",
    "We will use the subset of the dataset where both tracks_name and artist_name only contain English characters. We anticipate that the cardinality will be smaller after this procedure but still satisfies the requirement.\n",
    "\n",
    "We intend to build a regression model to predict the popularity of a song using pipeline-engineered features from the cleaned and processed data combined from the two datasets mentioned above.\n",
    "\n",
    "\n",
    "**Baseline Model** $$Popularity=w_{Dancibility}*Dancibility + w_0$$\n",
    "The intention of the baseline model is to set a basic standard of the performance of the model for further improvement. This means that the performance of our final model cannot be worse than this one.\n",
    "\n",
    "\n",
    "**Improved Model** $$Popularity=w_1X_1+w_2X_2+...+w_dX_d+w_0$$\n",
    "The improved Model would contain all of the raw features with statistical significance.\n",
    "\n",
    "\n",
    "**Final Model** $$Popularity=w_1Z_1+w_2Z_2+...w_{d^{'}}Z_{d^{'}}+w_0^{'}$$ where $Z_i, i={1,2,..,d'}$ are pipeline engineered features from the raw features. \n",
    "\n",
    "\n",
    "<b>Possible features:</b>\n",
    "- Duration of the song (standardized)\n",
    "- Explicit content (0/1)\n",
    "- Song name (vectorization)\n",
    "- Date of release\n",
    "- Danceability of a song(0-1)\n",
    "- The extent of Energization(0-1)\n",
    "- Popularity of the artist(1-100)\n",
    "- Number of followers of the artist(standardized)\n",
    "- Interaction terms(e.g. Danceability* Energization)\n",
    "- ......\n",
    "\n"
   ]
  },
  {
   "cell_type": "markdown",
   "metadata": {},
   "source": [
    "# Evaluation Metrics\n",
    "\n",
    "* Since we are dealing with a regression problem, the most intuitive evaluation metric is the **mean squared error(MSE)**,$\\frac{1}{n}\\sum\\limits _{i=1} ^{n}(y_{pred}-y_{actural})^2 $. MSE measures how much our predictions are away from the actual targets, which means that we seek a relatively low value of MSE.\n",
    "\n",
    "\n",
    "\n",
    "* Since our solutions include a baseline model, we would like to have an evaluation metric for the improvements of performance for different models. We plan to use the **R-squared** metric, i.e. $R^2=1-  \\frac{\\sum\\limits_{i=1}^{n}(y_{pred}-y_{actural})^2}{\\sum\\limits_{i=1}^{n}(y_{bar}-y_{i})^2}$. $R^2$ measures how much of the variance in y can be explained by x. This way, we will have an idea of how much our model improved by comparing the R2 value of different models .\n",
    "\n",
    "\n",
    "\n",
    "* In order to tune our hyperparameters and avoid overfitting, we plan to use the classical **k-fold cross validation** strategy. k-fold cross validation allows us to test different hyperparameters on a validation set. By introducing a validation set, we believe that our model will be less susceptible to overfitting.\n",
    "\n"
   ]
  },
  {
   "cell_type": "markdown",
   "metadata": {},
   "source": [
    "# Ethics & Privacy"
   ]
  },
  {
   "cell_type": "markdown",
   "metadata": {},
   "source": [
    "There are no privacy issues during our collection of data. Our datasets used in this project are from the kaggle website and the author collected these data from spotify web Api. Our data contains only generalized statistics about artists and their track’s popularity, genre, etc. None of these values have identifiable information that can be traced back to individual Spotify users. Since the datasets were collected from the official spotify web api with over 600 thousands tracks and more than one million artists, we assumed that potential bias in the data collection is kept to a minimum. \n",
    "\n",
    "We stored the dataset in a private github repository that can be only accessed by the instructional team and our team members to ensure that our data is secured. \n",
    "\n",
    "During our EDA and data cleaning, we will make sure that we retain most of the original datasets to keep the data bias to a minimum. We will also make visualizations and analysis for the datasets so that we can discover interesting trends and spot any underlying bias within the dataset and address them accordingly. \n",
    "\n",
    "Our model utilizes different features of a song such as duration, danceability, etc to evaluate its popularity. We have checked the variables in the datasets and we have not found any data that appeared to be discriminatory. \n",
    "\n",
    "One ethical concern that this project may have is that artists may use our model to predict what features are important to the popularity of a song and then focus on satisfying these features when making new songs. This may result in less music produced in less popular genres. We plan to address this issue by setting our project private after the class so that people won’t have access to it.\n"
   ]
  },
  {
   "cell_type": "markdown",
   "metadata": {},
   "source": [
    "# Team Expectations "
   ]
  },
  {
   "cell_type": "markdown",
   "metadata": {},
   "source": [
    "* We will keep an open line of communication via text messages and email.\n",
    "* We will have group meetings to discuss the progress of the project.\n",
    "* We promise to finish our respective parts on time.\n",
    "* We will respect each other.\n",
    "* We will reach out to each other for help if needed\n",
    "* We will be open to constructive criticism without being defensive or negative.\n"
   ]
  },
  {
   "cell_type": "markdown",
   "metadata": {},
   "source": [
    "# Project Timeline Proposal"
   ]
  },
  {
   "cell_type": "markdown",
   "metadata": {},
   "source": [
    "**Important deadlines:**\n",
    "* Proposal due April 22nd\n",
    "* Peer review due April 29\n",
    "* Checkpoint due May 13\n",
    "* Peer review 2 due May 20\n",
    "* Final Project June 8\n",
    "\n",
    "\n",
    "| Meeting Date  | Meeting Time| Completed Before Meeting  | Discuss at Meeting |\n",
    "|---|---|---|---|\n",
    "| 4/19  |  4 PM |  N/A  | Brainstorm topics/questions/dataset (all) | \n",
    "| 5/3  |  4 PM |  Project Proposal | Discuss Wrangling and possible analytical approaches; Assign group members to lead each specific part | \n",
    "| 5/10  | 4 PM | Finish data cleaning/processing | Review/Edit wrangling/EDA; Discuss Analysis Plan   |\n",
    "| 5/17  | 4 PM  | Finish EDA and analysis plan | Discuss/edit project code; Complete project\n",
    "   |\n",
    "| 5/23  | 4 PM  | Finish the coding part of the project | Discuss/edit full project |\n",
    "| 5/30  | 4 PM  |Finish the whole project| Turn in Final Project |"
   ]
  },
  {
   "cell_type": "markdown",
   "metadata": {},
   "source": [
    "# Footnotes\n",
    "<a name=\"reference_1\"></a>1.[^](#ref_1): Picard, Madeleine Visualized: Can we Quantify the Most Popular Music? *DISPLAYR Blog*. https://www.displayr.com/most-popular-music/<br> \n",
    "\n",
    "<a name=\"reference_2\"></a>2.[^](#ref_2): Peker, Philip (25 Jun 2021) Predicting Popularity on Spotify — When Data Needs Culture More than Culture Needs Data. *Towards Data Science*. https://www.nytimes.com/2021/12/09/technology/birds-arent-real-gen-z-misinformation.html<br> \n",
    "\n",
    "<a name=\"data_ref\"></a>3.[^](#data): Kaggle https://www.kaggle.com/datasets/yamaerenay/spotify-dataset-19212020-600k-tracks<br>\n",
    "\n"
   ]
  }
 ],
 "metadata": {
  "kernelspec": {
   "display_name": "Python 3",
   "language": "python",
   "name": "python3"
  },
  "language_info": {
   "codemirror_mode": {
    "name": "ipython",
    "version": 3
   },
   "file_extension": ".py",
   "mimetype": "text/x-python",
   "name": "python",
   "nbconvert_exporter": "python",
   "pygments_lexer": "ipython3",
   "version": "3.8.5"
  }
 },
 "nbformat": 4,
 "nbformat_minor": 2
}
